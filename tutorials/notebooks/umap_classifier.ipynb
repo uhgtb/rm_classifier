{
 "cells": [
  {
   "cell_type": "code",
   "execution_count": 17,
   "id": "31470553",
   "metadata": {},
   "outputs": [
    {
     "data": {
      "text/plain": [
       "<module 'helper_scripts.random_rm_trace_generator' from '/cr/work/kastner/private/umap/rm_classifier/tutorials/notebooks/helper_scripts/random_rm_trace_generator.py'>"
      ]
     },
     "execution_count": 17,
     "metadata": {},
     "output_type": "execute_result"
    }
   ],
   "source": [
    "import numpy as np\n",
    "import pandas\n",
    "from helper_scripts import random_rm_trace_generator\n",
    "import importlib\n",
    "from matplotlib import pyplot as plt\n",
    "importlib.reload(random_rm_trace_generator)"
   ]
  },
  {
   "cell_type": "code",
   "execution_count": null,
   "id": "3a1a4fed",
   "metadata": {},
   "outputs": [],
   "source": [
    "spectra, time_traces, clusters, _,_=random_rm_trace_generator.generate_random_rm_traces(400, n_clusters=10, outlier_fraction=0.05)\n",
    "for i in range(400):\n",
    "    if clusters[i] == -1:\n",
    "        plt.plot(spectra[i], label=f'Trace {i+1}')"
   ]
  }
 ],
 "metadata": {
  "kernelspec": {
   "display_name": "aera01",
   "language": "python",
   "name": "python3"
  },
  "language_info": {
   "codemirror_mode": {
    "name": "ipython",
    "version": 3
   },
   "file_extension": ".py",
   "mimetype": "text/x-python",
   "name": "python",
   "nbconvert_exporter": "python",
   "pygments_lexer": "ipython3",
   "version": "3.11.6"
  }
 },
 "nbformat": 4,
 "nbformat_minor": 5
}
